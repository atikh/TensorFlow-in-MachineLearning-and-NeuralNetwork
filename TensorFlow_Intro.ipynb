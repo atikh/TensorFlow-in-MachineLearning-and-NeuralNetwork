{
  "nbformat": 4,
  "nbformat_minor": 0,
  "metadata": {
    "colab": {
      "name": "TensorFlow-Intro.ipynb",
      "provenance": [],
      "collapsed_sections": [],
      "include_colab_link": true
    },
    "kernelspec": {
      "name": "python3",
      "display_name": "Python 3"
    }
  },
  "cells": [
    {
      "cell_type": "markdown",
      "metadata": {
        "id": "view-in-github",
        "colab_type": "text"
      },
      "source": [
        "<a href=\"https://colab.research.google.com/github/atikh/TensorFlow-in-MachineLearning-and-NeuralNetwork/blob/main/TensorFlow_Intro.ipynb\" target=\"_parent\"><img src=\"https://colab.research.google.com/assets/colab-badge.svg\" alt=\"Open In Colab\"/></a>"
      ]
    },
    {
      "cell_type": "markdown",
      "metadata": {
        "id": "-5u3a4csUPyn"
      },
      "source": [
        "#TensorFlow\n",
        "- 1. TensorFlow Install and Setup (No need to setup in Google Collab)\n",
        "    - 1-1. Importing TensorFlow\n",
        "- 2. Representing Tensors\n",
        "    - 2-1. Basic Tensors (with Shape and Rank)\n",
        "    - 2-2. Tensor datatypes\n",
        "    - 2-3. Changing Shape of Tensors\n",
        "    - 2-4. Select a part of Tensors (Slicing)"
      ]
    },
    {
      "cell_type": "markdown",
      "metadata": {
        "id": "F7ThfbiQl96l"
      },
      "source": [
        "## 1. TensorFlow Install and Setup\n",
        "To install TensorFlow on your local machine you can use pip.\n",
        "```console\n",
        "pip install tensorflow\n",
        "```\n",
        "\n",
        "If you have a CUDA enabled GPU you can install the GPU version of TensorFlow. You will also need to install some other software which can be found here: https://www.tensorflow.org/install/gpu \n",
        "\n",
        "```console\n",
        "pip install tensorflow-gpu\n",
        "```"
      ]
    },
    {
      "cell_type": "markdown",
      "metadata": {
        "id": "JJjNMaSClWhg"
      },
      "source": [
        "## 1-1. Importing TensorFlow\n",
        "First select the Proper version of TensorFlow from collabratory!\n"
      ]
    },
    {
      "cell_type": "code",
      "metadata": {
        "id": "4N7XbNDVY8P3"
      },
      "source": [
        "import tensorflow as tf "
      ],
      "execution_count": null,
      "outputs": []
    },
    {
      "cell_type": "markdown",
      "metadata": {
        "id": "duDj86TfWFof"
      },
      "source": [
        "## 2. Representing Tensors\n",
        "-What is Tensor?\n",
        "\n",
        "Tensors are multi-dimensional arrays with a uniform type (called a dtype). You can see all supported dtypes at tf.dtypes.DType.\n",
        "\n",
        "If you're familiar with NumPy, tensors are (kind of) like np.arrays.\n",
        "\n",
        "All tensors are immutable like Python numbers and strings: you can never update the contents of a tensor, only create a new one.\n",
        "https://www.tensorflow.org/guide/tensor\n",
        "\n",
        "tensorflow has 2 main components that we will try to understand:\n",
        "  -Graph s\n",
        "  -Sessions\n",
        "- TensorFlow works by building a graph of defined computations. Nothing is computed or stored in this graph. It is a simple way of defining the operations that have beein written in code.\n",
        "- A TensorFlow sessions allows parts of the graphg to be executed. It allocates memory and rescources and handles the execution of the operations and computations we've defined. ( In some instances we will need to run a session to be able to execute parts of the graphs we've created earlier).\n",
        "\n",
        "\n",
        "Each tensor has a data type and a shape. \n",
        "\n",
        "**Data Types Include**: float32, int32, string and others.\n",
        "\n",
        "**Shape**: Represents the dimension of data.\n",
        "#### The shape of a tensor is simply the number of elements that exist in each dimension. \n",
        "\n",
        "Just like vectors and matrices tensors can have operations applied to them like addition, subtraction, dot product, cross product etc.\n"
      ]
    },
    {
      "cell_type": "markdown",
      "source": [
        "### 2-1. basic tensors\n",
        "\n",
        "- \"scalar\" or \"rank-0\" tensor > Value = single , Axes = 0 (rank_0_tensor)\n",
        "- A \"vector\" or \"rank-1\" tensor > Value = List , Axes = 1 (rank_1_tensor)\n",
        "- A \"matrix\" or \"rank-2\" tensor > Axes = 2 (rank_2_tensor)\n",
        "- Tensors with more axes (rank_3_tensor)\n",
        "\n",
        "The rank of a tensor is directly related to the deepest level of nested lists.\n",
        "\n"
      ],
      "metadata": {
        "id": "eMwjUDTUuplP"
      }
    },
    {
      "cell_type": "code",
      "source": [
        "rank_0_tensor = tf.constant(4)\n",
        "print(rank_0_tensor)"
      ],
      "metadata": {
        "colab": {
          "base_uri": "https://localhost:8080/"
        },
        "id": "LKZ3NvbMvlk0",
        "outputId": "c91dc896-fd73-4b5c-fb3e-d5a4e5f67d7d"
      },
      "execution_count": null,
      "outputs": [
        {
          "output_type": "stream",
          "name": "stdout",
          "text": [
            "tf.Tensor(4, shape=(), dtype=int32)\n"
          ]
        }
      ]
    },
    {
      "cell_type": "markdown",
      "source": [
        "![image.png](data:image/png;base64,iVBORw0KGgoAAAANSUhEUgAAAGcAAABoCAYAAADsF+4sAAAB8ElEQVR4nO3asUocURSH8S9isUUKyxRbWKS08BEEX8BCUBCLFAFLwTaFoJDGUkggBAUtFVLkAQKxsNNSkIBlCkELQUEhKWaXvbPRZh3n3Jl8PxiWAzvL2f2z587cXZAkSZIkSZIkSZIkSZIkSZIkSZIkqU6voht4IePAQu8R4BdwFNeOUmvAn+TYiW1HfdPAPS0IZyy6gYp1gD0G46zR2hbOR2Aqugn9a5byKHOsZWIC2I1uomptCecL0E3qi6hGqtSGcJaA+aTeBn4E9aJEF7hisLacA68p1hjXnGB7FOsNwAOwDNzEtVOtJoezBswk9RZwHNSLEtPALYOxdUL5xtOxFqRD8WF3evUd8I5irLVKE8PZoPjm9H0AToN6UWKG8rj6yeP7aI61mk1QXJ313VBcnbVunPU1KZxPlHcBVmnJTsBTmhLOArCY1N+Br0G91KYJ4XSBz0l9CbwP6qVWTQgn3QUAWAF+B/VSq9zDGd4F2AcOg3qpXc4/574FNpP6DjigHNZT3jxSD5933HtNjWD4nqbqY7K+tzKa3Mfaf81wMpbzmnMBrI947hzl/bdT4NvQc65HfG09k3trelmGkzHDyZjhZMxwMmY4Gcv5Puc5zij/6/MsqhFJkiRJkiRJkiRJkiRJkiRJkiRJkqQK/AXQk25QQwn9mgAAAABJRU5ErkJggg==)"
      ],
      "metadata": {
        "id": "VR5ZiWDjwcdx"
      }
    },
    {
      "cell_type": "code",
      "source": [
        "rank_1_tensor = tf.constant([2, 3, 4])\n",
        "print(rank_1_tensor)"
      ],
      "metadata": {
        "colab": {
          "base_uri": "https://localhost:8080/"
        },
        "id": "LLtoG2D1vyHW",
        "outputId": "c0bd4e61-c1a5-43d3-bb03-ebf555415240"
      },
      "execution_count": null,
      "outputs": [
        {
          "output_type": "stream",
          "name": "stdout",
          "text": [
            "tf.Tensor([1 2 3], shape=(3,), dtype=int32)\n"
          ]
        }
      ]
    },
    {
      "cell_type": "markdown",
      "source": [
        "![image.png](data:image/png;base64,iVBORw0KGgoAAAANSUhEUgAAAG0AAABjCAYAAACR8o4mAAAFNklEQVR4nO2dP2gkVRzHP2qKFEEibrFFkBQpgqQIaBEkRUQkyAkprvDghBRXXCBFBBELC4sIFlGCpLjikCBXnFaeKBwSJEiEqBH0MBLllD24gwg5vWACCRcxFr/3mN3ZnWwy+zYzs/l+YNg3O2/395v5vT+/eTO/90AIIYQQQgghhBBCiNzzWMD/6ge6gd1j5APYDyi7G+gD/gUeHpGvC3jqGPnSUsbO67+E417PfadDZgwCG8CK+7yJKRenDPwMrAJ3gZlA8kfd/y0Dt4FXjtCz4vJtAucDyfcMA3tEhTJOtZ533X5mLAHTLt2FKXW5Qb4rwJxL92KKDwSQvwGcc+kBYOcIPSddehDYAnoCyAcrpKtOdpLRbhMZatztZ8YEZgTPFeCtBvkqWGn0XCdMbevHCotP71Xte7qBA2qNtEpk7FaZx86lQmOjDWG1u5otUhbaR9P8KMZnwLZLDwIX3Hdx+qvyAfxKrbHTcgfrHxYwQ0xR31+Usb52N/a7UgD545hRPjgiT8nJq+Ye1r+dmHiJbIVBrAmaAtYT8rSz872BXZh3gK+pv0hxBymEI1QC3gNeOkbeuLzU8kPUNLBmZhl4DfgkIc82tQ5KibBG/Ap4H/iBeidjl/pS7b24VvDdwCywiJ3THFaAq9lvIN/X/kw4hzkVzzbJt0StZ7cGvBBA/gPsAniWgUsN8lWAEZfuooU+pYpRzLnx2xbwekwfsL50h6g5Lrv9Rl72qbAJ/IiVNL9NuGPVzsYYZtzLwFXs4oZgHuvLJjEnaIPI4VghqnWT7tgl4HOnZ2jijkiFqIa9XaXnqttPRYib6/vAt1gf4rffgD+x6v+LS9/BDDXs0m8S5gb3S/f/T2POzQxRs/MPcAv4233ecvK/x5q0pJvgtNzD7kX9eW1jBfoh1s/uYrX7BlbAhBCFJdRQk+SfovxKaC0kv3X5oe7TxCkioxUQGa2AyGgFREYrIDJaAXmkyfG/sKGgrOjDhobOqvzHgSdP+qNc3qecdflqHguIjFZAZLQCIqMVEBmtgMhoBeQ4rxt813YtJD/P8oUQQgghREfTKM5MnA49pHyFbo8MgwTOOD4suo5mIyLrNI+GEe3hGRLi/JoZ7QuSA89Fe7mAXf8TU8ZCmZKCv0V7GMGeWqfumqaxcJ1QMwGIoyljcXwtB/HPY4ZTjWsvw1gNCxb4MY01lQtY2GrIIPuzTDcWxnwNq2FNJ6Vp9gpdnDIWfvsyNg1DfJqHrFgHvgE+wqJCkxgALmKFLsTEM63SixX+n7Do0A+pnbajI+nFmuwJrAXYcp/x/reExX9vAu9ic3/0N8gnMqAXa2ZWiAxSxm5S59BAQa5ZAD7Fmp41zJESOacLq12LWK2T01QQZoBDopnnRAEYwow2lLUi4vj0Em5WICGEEEIIIYQQIpGQy5bkiRLwPPAc8AT2jC3TZUJEMl3YiP4eNoTltwfYhNAih1zDjLSFTew8iT303HHfz2anmmjEGGaYHernxffHDki56oRoD4uYYZJm4V5zxy+emkZtopMeDr4BfAz8kbUiIgzDWNN4gN7dzDUlLHhklsgRyXr2b9GE69S6/VfpkLexTvqyapHwqyf2Aa+6z9+BF6lfpkvkkB5sUZ5D9ApCoRghairljBQIb7SxrBVphU6a0GwJ8xLHE45Xrz+ah6CR1HSS0baxvmsq4bhfvfA+FqUicsAoUfMXH9E/TzTyr3u1nOFfBT/EFv/2q8z77xSIkVNGgZtEoyA7WH8XaiFyIYQQQgghhBBCCCFEc/4HH5Igx45tRJgAAAAASUVORK5CYII=)"
      ],
      "metadata": {
        "id": "4vUZPxfUwgbK"
      }
    },
    {
      "cell_type": "code",
      "source": [
        "rank_2_tensor = tf.constant([[1, 2],\n",
        "                             [3, 4],\n",
        "                             [5, 6]])\n",
        "print(rank_2_tensor)"
      ],
      "metadata": {
        "colab": {
          "base_uri": "https://localhost:8080/"
        },
        "id": "O_TZSaPav7NO",
        "outputId": "b142c47f-ba4a-42e9-99da-75b5848d23bb"
      },
      "execution_count": null,
      "outputs": [
        {
          "output_type": "stream",
          "name": "stdout",
          "text": [
            "tf.Tensor(\n",
            "[[1 2]\n",
            " [3 4]\n",
            " [5 6]], shape=(3, 2), dtype=int32)\n"
          ]
        }
      ]
    },
    {
      "cell_type": "markdown",
      "source": [
        "![image.png](data:image/png;base64,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)"
      ],
      "metadata": {
        "id": "F4OaR0Ukwk5z"
      }
    },
    {
      "cell_type": "code",
      "source": [
        "rank_3_tensor = tf.constant([\n",
        "  [[0, 1, 2, 3, 4],\n",
        "   [5, 6, 7, 8, 9]],\n",
        "  [[10, 11, 12, 13, 14],\n",
        "   [15, 16, 17, 18, 19]],\n",
        "  [[20, 21, 22, 23, 24],\n",
        "   [25, 26, 27, 28, 29]],])\n",
        "\n",
        "print(rank_3_tensor)"
      ],
      "metadata": {
        "colab": {
          "base_uri": "https://localhost:8080/"
        },
        "id": "fC-LWh1jwvlP",
        "outputId": "5e54c8c9-76b3-4bd9-ab38-246a8689a2c0"
      },
      "execution_count": null,
      "outputs": [
        {
          "output_type": "stream",
          "name": "stdout",
          "text": [
            "tf.Tensor(\n",
            "[[[ 0  1  2  3  4]\n",
            "  [ 5  6  7  8  9]]\n",
            "\n",
            " [[10 11 12 13 14]\n",
            "  [15 16 17 18 19]]\n",
            "\n",
            " [[20 21 22 23 24]\n",
            "  [25 26 27 28 29]]], shape=(3, 2, 5), dtype=int32)\n"
          ]
        }
      ]
    },
    {
      "cell_type": "markdown",
      "source": [
        "![image.png](data:image/png;base64,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) ![image.png](data:image/png;base64,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) ![image.png](data:image/png;base64,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)"
      ],
      "metadata": {
        "id": "NZGIKHBEw9QV"
      }
    },
    {
      "cell_type": "markdown",
      "metadata": {
        "id": "TAk6QhGUwQRt"
      },
      "source": [
        "### 2.2 - Tensor datatypes\n",
        "It can be defined by directly writing the type or indirectly just with inputs."
      ]
    },
    {
      "cell_type": "code",
      "metadata": {
        "id": "epGskXdjZHzu",
        "colab": {
          "base_uri": "https://localhost:8080/"
        },
        "outputId": "f35e5a8f-11a1-4a33-8b6c-7ff6d85cf0d6"
      },
      "source": [
        "#Directly\n",
        "string = tf.Variable(\"this is a string\", tf.string) \n",
        "number = tf.Variable(324, tf.int16)\n",
        "floating = tf.Variable(3.567, tf.float64)\n",
        "#Indirectly\n",
        "Numb = tf.constant([2, 3, 4])\n",
        "Numb"
      ],
      "execution_count": null,
      "outputs": [
        {
          "output_type": "execute_result",
          "data": {
            "text/plain": [
              "<tf.Tensor: shape=(3,), dtype=int32, numpy=array([2, 3, 4], dtype=int32)>"
            ]
          },
          "metadata": {},
          "execution_count": 13
        }
      ]
    },
    {
      "cell_type": "markdown",
      "metadata": {
        "id": "wVDmLJeFs086"
      },
      "source": [
        "### 2.3 - Changing Shape of Tensors\n",
        "The number of elements of a tensor is the product of the sizes of all its shapes. There are often many shapes that have the same number of elements, making it convient to be able to change the shape of a tensor."
      ]
    },
    {
      "cell_type": "code",
      "metadata": {
        "id": "dZ8Rbs2xtNqj",
        "colab": {
          "base_uri": "https://localhost:8080/"
        },
        "outputId": "2b292f41-ccf7-4859-b6a9-7c51a221eaba"
      },
      "source": [
        "tensor1 = tf.ones([1,2,3])  # tf.ones() creates a shape [1,2,3] tensor full of ones\n",
        "tensor1"
      ],
      "execution_count": null,
      "outputs": [
        {
          "output_type": "execute_result",
          "data": {
            "text/plain": [
              "<tf.Tensor: shape=(1, 2, 3), dtype=float32, numpy=\n",
              "array([[[1., 1., 1.],\n",
              "        [1., 1., 1.]]], dtype=float32)>"
            ]
          },
          "metadata": {},
          "execution_count": 16
        }
      ]
    },
    {
      "cell_type": "code",
      "source": [
        "tensor2 = tf.reshape(tensor1, [2,3,1])  # reshape existing data to shape [2,3,1]\n",
        "tensor2"
      ],
      "metadata": {
        "colab": {
          "base_uri": "https://localhost:8080/"
        },
        "id": "d9uZi2Pdzsse",
        "outputId": "6380931a-f9d9-4ea6-b2af-929d2888f5e5"
      },
      "execution_count": null,
      "outputs": [
        {
          "output_type": "execute_result",
          "data": {
            "text/plain": [
              "<tf.Tensor: shape=(2, 3, 1), dtype=float32, numpy=\n",
              "array([[[1.],\n",
              "        [1.],\n",
              "        [1.]],\n",
              "\n",
              "       [[1.],\n",
              "        [1.],\n",
              "        [1.]]], dtype=float32)>"
            ]
          },
          "metadata": {},
          "execution_count": 17
        }
      ]
    },
    {
      "cell_type": "code",
      "source": [
        "\n",
        "tensor3 = tf.reshape(tensor2, [3, -1])  # -1 tells the tensor to calculate the size of the dimension in that place\n",
        "                                        # this will reshape the tensor to [3,3]\n",
        "tensor3\n",
        "                                                                            "
      ],
      "metadata": {
        "colab": {
          "base_uri": "https://localhost:8080/"
        },
        "id": "gYkuhqYGz2KE",
        "outputId": "1bf38026-f013-4e6c-b312-e2d118803433"
      },
      "execution_count": null,
      "outputs": [
        {
          "output_type": "execute_result",
          "data": {
            "text/plain": [
              "<tf.Tensor: shape=(3, 2), dtype=float32, numpy=\n",
              "array([[1., 1.],\n",
              "       [1., 1.],\n",
              "       [1., 1.]], dtype=float32)>"
            ]
          },
          "metadata": {},
          "execution_count": 18
        }
      ]
    },
    {
      "cell_type": "markdown",
      "metadata": {
        "id": "M631k7UDv1Wh"
      },
      "source": [
        "Now let's have a look at our different tensors."
      ]
    },
    {
      "cell_type": "markdown",
      "metadata": {
        "id": "q88pJucBolsp"
      },
      "source": [
        "### 2.4- Select a part of Tensors (Slicing)\n",
        "\n",
        "slice operator can be used on tensors to select specific axes or elements."
      ]
    },
    {
      "cell_type": "code",
      "metadata": {
        "id": "b0YrD-hRqD-W",
        "colab": {
          "base_uri": "https://localhost:8080/"
        },
        "outputId": "c7494445-0a28-4c86-9b18-dd06d84c2b42"
      },
      "source": [
        "# Creating a 2D tensor\n",
        "matrix = [[1,2,3,4,5],\n",
        "          [6,7,8,9,10],\n",
        "          [11,12,13,14,15],\n",
        "          [16,17,18,19,20]]\n",
        "\n",
        "tensor = tf.Variable(matrix, dtype=tf.int32) \n",
        "tensor"
      ],
      "execution_count": null,
      "outputs": [
        {
          "output_type": "execute_result",
          "data": {
            "text/plain": [
              "<tf.Variable 'Variable:0' shape=(4, 5) dtype=int32, numpy=\n",
              "array([[ 1,  2,  3,  4,  5],\n",
              "       [ 6,  7,  8,  9, 10],\n",
              "       [11, 12, 13, 14, 15],\n",
              "       [16, 17, 18, 19, 20]], dtype=int32)>"
            ]
          },
          "metadata": {},
          "execution_count": 20
        }
      ]
    },
    {
      "cell_type": "code",
      "metadata": {
        "id": "Wd85uGI7qyfC",
        "colab": {
          "base_uri": "https://localhost:8080/"
        },
        "outputId": "73735dc5-eae2-45c6-bf0d-27f2362d3f19"
      },
      "source": [
        "# Now lets select some different rows and columns from our tensor\n",
        "three = tensor[0,2]  # selects the 3rd element from the 1st row\n",
        "print(three)  "
      ],
      "execution_count": null,
      "outputs": [
        {
          "output_type": "stream",
          "name": "stdout",
          "text": [
            "tf.Tensor(3, shape=(), dtype=int32)\n"
          ]
        }
      ]
    },
    {
      "cell_type": "markdown",
      "source": [
        ""
      ],
      "metadata": {
        "id": "60jghc_b1Xd1"
      }
    },
    {
      "cell_type": "code",
      "source": [
        "row1 = tensor[0]  # selects the first row\n",
        "print(row1)"
      ],
      "metadata": {
        "id": "G1ncbmnG1WEQ",
        "colab": {
          "base_uri": "https://localhost:8080/"
        },
        "outputId": "da6e3c85-8c86-42f2-c03f-9a8a58757472"
      },
      "execution_count": null,
      "outputs": [
        {
          "output_type": "stream",
          "name": "stdout",
          "text": [
            "tf.Tensor([1 2 3 4 5], shape=(5,), dtype=int32)\n"
          ]
        }
      ]
    },
    {
      "cell_type": "code",
      "source": [
        "column1 = tensor[:, 0]  # selects the first column\n",
        "print(column1)\n"
      ],
      "metadata": {
        "colab": {
          "base_uri": "https://localhost:8080/"
        },
        "id": "m_g526ws1Z-D",
        "outputId": "c9935751-1428-4f82-c548-95ced0470d8e"
      },
      "execution_count": null,
      "outputs": [
        {
          "output_type": "stream",
          "name": "stdout",
          "text": [
            "tf.Tensor([ 1  6 11 16], shape=(4,), dtype=int32)\n"
          ]
        }
      ]
    },
    {
      "cell_type": "code",
      "source": [
        "row_2_and_4 = tensor[1::2]  # selects second and fourth row\n",
        "print(row_2_and_4)"
      ],
      "metadata": {
        "colab": {
          "base_uri": "https://localhost:8080/"
        },
        "id": "zvBgGMNu1dP_",
        "outputId": "720cdb91-c208-4c21-e09b-45b7d7c7500f"
      },
      "execution_count": null,
      "outputs": [
        {
          "output_type": "stream",
          "name": "stdout",
          "text": [
            "tf.Tensor(\n",
            "[[ 6  7  8  9 10]\n",
            " [16 17 18 19 20]], shape=(2, 5), dtype=int32)\n"
          ]
        }
      ]
    },
    {
      "cell_type": "code",
      "source": [
        "olumn_1_in_row_2_and_3 = tensor[1:3, 0]\n",
        "print(olumn_1_in_row_2_and_3)"
      ],
      "metadata": {
        "colab": {
          "base_uri": "https://localhost:8080/"
        },
        "id": "iI19ed381fo8",
        "outputId": "85c9c5b0-9d8f-4b21-bbbf-676de814422e"
      },
      "execution_count": null,
      "outputs": [
        {
          "output_type": "stream",
          "name": "stdout",
          "text": [
            "tf.Tensor([ 6 11], shape=(2,), dtype=int32)\n"
          ]
        }
      ]
    },
    {
      "cell_type": "markdown",
      "source": [
        "print(\"Everything:\", rank_1_tensor[:].numpy())\n",
        "print(\"Before 4:\", rank_1_tensor[:4].numpy())\n",
        "print(\"From 4 to the end:\", rank_1_tensor[4:].numpy())\n",
        "print(\"From 2, before 7:\", rank_1_tensor[2:7].numpy())\n",
        "print(\"Every other item:\", rank_1_tensor[::2].numpy())\n",
        "print(\"Reversed:\", rank_1_tensor[::-1].numpy())"
      ],
      "metadata": {
        "id": "fQQPkoLD4Gem"
      }
    },
    {
      "cell_type": "markdown",
      "metadata": {
        "id": "UU4MMhB_rxvz"
      },
      "source": [
        "## 3. Types of Tensors\n",
        "Before we go to far, I will mention that there are diffent types of tensors. These are the most used:\n",
        "- Variable >>>>  tf.Variable\n",
        "- Constant >>>> tf.constant\n",
        "- Placeholder\n",
        "- SparseTensor\n",
        "\n",
        "All these tensors are immuttable (value may not change during execution) with the execption of ```Variable``` (we use the Variable tensor when we want to potentially change the value of our tensor) .\n",
        "\n"
      ]
    }
  ]
}