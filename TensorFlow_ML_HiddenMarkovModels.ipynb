{
  "nbformat": 4,
  "nbformat_minor": 0,
  "metadata": {
    "colab": {
      "name": "TensorFlow-ML-HiddenMarkovModels.ipynb",
      "provenance": [],
      "collapsed_sections": [],
      "include_colab_link": true
    },
    "kernelspec": {
      "name": "python3",
      "display_name": "Python 3"
    }
  },
  "cells": [
    {
      "cell_type": "markdown",
      "metadata": {
        "id": "view-in-github",
        "colab_type": "text"
      },
      "source": [
        "<a href=\"https://colab.research.google.com/github/atikh/TensorFlow-in-MachineLearning-and-NeuralNetwork/blob/main/TensorFlow_ML_HiddenMarkovModels.ipynb\" target=\"_parent\"><img src=\"https://colab.research.google.com/assets/colab-badge.svg\" alt=\"Open In Colab\"/></a>"
      ]
    },
    {
      "cell_type": "markdown",
      "metadata": {
        "id": "tUgsCvCHLksw"
      },
      "source": [
        "#TensorFlow Core Learning Algorithms\n",
        "In this notebook we will walk through 4 fundemental machine learning algorithms. We will apply each of these algorithms to unique problems and datasets before highlighting the use cases of each.\n",
        "\n",
        "The algorithms we will focus on include:\n",
        "- 1 - Linear Regression\n",
        "- 2 - Classification\n",
        "- 3 - Clustering\n",
        "- 4 - Hidden Markov Models (THIS NOTEBOOK)\n",
        "    - 4.1 - Data \n",
        "    - 4.2 - Imports and Setup\n",
        "    - 4.3 -  Weather Model\n",
        "    "
      ]
    },
    {
      "cell_type": "markdown",
      "metadata": {
        "id": "sQ9iJrSbBTZB"
      },
      "source": [
        "##Hidden Markov Models\n",
        "\n",
        "\"The Hidden Markov Model is a finite set of states, each of which is associated with a (generally multidimensional) probability distribution []. Transitions among the states are governed by a set of probabilities called transition probabilities.\" (http://jedlik.phy.bme.hu/~gerjanos/HMM/node4.html)\n",
        "\n",
        "A hidden markov model works with probabilities to predict future events or states. In this section we will learn how to create a hidden markov model that can predict the weather.\n",
        "\n",
        "*This section is based on the following TensorFlow tutorial.* https://www.tensorflow.org/probability/api_docs/python/tfp/distributions/HiddenMarkovModel"
      ]
    },
    {
      "cell_type": "markdown",
      "metadata": {
        "id": "RKJSFk4NP0eq"
      },
      "source": [
        "### 4.1 - Data\n",
        "Let's start by discussing the type of data we use when we work with a hidden markov model. \n",
        "\n",
        "In the previous sections we worked with large datasets of 100's of different entries. For a markov model we are **only interested in probability distributions that have to do with states**. \n",
        "\n",
        "We can find these probabilities from large datasets or may already have these values. We'll run through an example in a second that should clear some things up, but let's discuss the components of a markov model.\n",
        "\n",
        "**States:** In each markov model we have a finite set of states. These states could be something like \"warm\" and \"cold\" or \"high\" and \"low\" or even \"red\", \"green\" and \"blue\". These states are \"hidden\" within the model, which means we do not direcly observe them.\n",
        "\n",
        "**Observations:** Each state has a particular outcome or observation associated with it based on a probability distribution. An example of this is the following: *On a hot day Tim has a 80% chance of being happy and a 20% chance of being sad.*\n",
        "\n",
        "**Transitions:** Each state will have a probability defining the likelyhood of transitioning to a different state. An example is the following: *a cold day has a 30% chance of being followed by a hot day and a 70% chance of being follwed by another cold day.*\n",
        "\n",
        "To create a hidden markov model we need.\n",
        "- States\n",
        "- Observation Distribution\n",
        "- Transition Distribution\n",
        "\n",
        "For our purpose we will assume we already have this information available as we attempt to predict the weather on a given day."
      ]
    },
    {
      "cell_type": "markdown",
      "metadata": {
        "id": "iK2QbOzr6jNJ"
      },
      "source": [
        "### 4.2 - Imports and Setup"
      ]
    },
    {
      "cell_type": "markdown",
      "metadata": {
        "id": "GN_Fkrx30xbb"
      },
      "source": [
        "Due to a version mismatch with tensorflow v2 and tensorflow_probability we need to install the most recent version of tensorflow_probability (see below)."
      ]
    },
    {
      "cell_type": "code",
      "metadata": {
        "id": "kawrMHKGBWyS",
        "colab": {
          "base_uri": "https://localhost:8080/"
        },
        "outputId": "e66737a0-e8ae-46b3-9ed0-c7153dd8bfb5"
      },
      "source": [
        "!pip install tensorflow_probability==0.8.0rc0 --user --upgrade"
      ],
      "execution_count": 1,
      "outputs": [
        {
          "output_type": "stream",
          "name": "stdout",
          "text": [
            "Looking in indexes: https://pypi.org/simple, https://us-python.pkg.dev/colab-wheels/public/simple/\n",
            "Collecting tensorflow_probability==0.8.0rc0\n",
            "  Downloading tensorflow_probability-0.8.0rc0-py2.py3-none-any.whl (2.5 MB)\n",
            "\u001b[K     |████████████████████████████████| 2.5 MB 5.5 MB/s \n",
            "\u001b[?25hRequirement already satisfied: decorator in /usr/local/lib/python3.7/dist-packages (from tensorflow_probability==0.8.0rc0) (4.4.2)\n",
            "Collecting cloudpickle==1.1.1\n",
            "  Downloading cloudpickle-1.1.1-py2.py3-none-any.whl (17 kB)\n",
            "Requirement already satisfied: six>=1.10.0 in /usr/local/lib/python3.7/dist-packages (from tensorflow_probability==0.8.0rc0) (1.15.0)\n",
            "Requirement already satisfied: numpy>=1.13.3 in /usr/local/lib/python3.7/dist-packages (from tensorflow_probability==0.8.0rc0) (1.21.6)\n",
            "Installing collected packages: cloudpickle, tensorflow-probability\n",
            "\u001b[31mERROR: pip's dependency resolver does not currently take into account all the packages that are installed. This behaviour is the source of the following dependency conflicts.\n",
            "gym 0.17.3 requires cloudpickle<1.7.0,>=1.2.0, but you have cloudpickle 1.1.1 which is incompatible.\u001b[0m\n",
            "Successfully installed cloudpickle-1.1.1 tensorflow-probability-0.8.0rc0\n"
          ]
        }
      ]
    },
    {
      "cell_type": "code",
      "metadata": {
        "id": "mEIk7FYD6lcF"
      },
      "source": [
        "import tensorflow_probability as tfp  # We are using a different module from tensorflow this time\n",
        "import tensorflow as tf"
      ],
      "execution_count": null,
      "outputs": []
    },
    {
      "cell_type": "markdown",
      "metadata": {
        "id": "ssOcn-nIOCcV"
      },
      "source": [
        "### 4.3 - Weather Model\n",
        "Taken direclty from the TensorFlow documentation (https://www.tensorflow.org/probability/api_docs/python/tfp/distributions/HiddenMarkovModel). \n",
        "\n",
        "We will model a simple weather system and try to predict the temperature on each day given the following information.\n",
        "1. Cold days are encoded by a 0 and hot days are encoded by a 1.\n",
        "2. The first day in our sequence has an 80% chance of being cold.\n",
        "3. A cold day has a 30% chance of being followed by a hot day.\n",
        "4. A hot day has a 20% chance of being followed by a cold day.\n",
        "5. On each day the temperature is\n",
        " normally distributed with mean and standard deviation 0 and 5 on\n",
        " a cold day and mean and standard deviation 15 and 10 on a hot day.\n",
        "\n",
        "If you're unfamiliar with **standard deviation** it can be put simply as the range of expected values. \n",
        "\n",
        "In this example, on a hot day the average temperature is 15 and ranges from 5 to 25.\n",
        "\n",
        "To model this in TensorFlow we will do the following.\n"
      ]
    },
    {
      "cell_type": "code",
      "metadata": {
        "id": "4LBLEJp4YlIf"
      },
      "source": [
        "tfd = tfp.distributions  # making a shortcut for later on\n",
        "initial_distribution = tfd.Categorical(probs=[0.2, 0.8])  # Refer to point 2 above\n",
        "transition_distribution = tfd.Categorical(probs=[[0.5, 0.5],\n",
        "                                                 [0.2, 0.8]])  # refer to points 3 and 4 above\n",
        "observation_distribution = tfd.Normal(loc=[0., 15.], scale=[5., 10.])  # refer to point 5 above\n",
        "\n",
        "# the loc argument represents the mean and the scale is the standard devitation"
      ],
      "execution_count": null,
      "outputs": []
    },
    {
      "cell_type": "markdown",
      "metadata": {
        "id": "-XtTg0l04mqc"
      },
      "source": [
        "We've now created distribution variables to model our system and it's time to create the hidden markov model."
      ]
    },
    {
      "cell_type": "code",
      "metadata": {
        "id": "P4M6cZww4mZk"
      },
      "source": [
        "model = tfd.HiddenMarkovModel(\n",
        "    initial_distribution=initial_distribution,\n",
        "    transition_distribution=transition_distribution,\n",
        "    observation_distribution=observation_distribution,\n",
        "    num_steps=7)"
      ],
      "execution_count": null,
      "outputs": []
    },
    {
      "cell_type": "markdown",
      "metadata": {
        "id": "DJ0XIA2M5gqD"
      },
      "source": [
        "The number of steps represents the number of days that we would like to predict information for. In this case we've chosen 7, an entire week.\n",
        "\n",
        "To get the **expected temperatures** on each day we can do the following."
      ]
    },
    {
      "cell_type": "code",
      "metadata": {
        "id": "plVVG4fi55Jv",
        "colab": {
          "base_uri": "https://localhost:8080/",
          "height": 34
        },
        "outputId": "cef2d0a3-0edf-4226-ad65-43245933109f"
      },
      "source": [
        "mean = model.mean()\n",
        "\n",
        "# due to the way TensorFlow works on a lower level we need to evaluate part of the graph\n",
        "# from within a session to see the value of this tensor\n",
        "\n",
        "# in the new version of tensorflow we need to use tf.compat.v1.Session() rather than just tf.Session()\n",
        "with tf.compat.v1.Session() as sess:  \n",
        "  print(mean.numpy())"
      ],
      "execution_count": null,
      "outputs": [
        {
          "output_type": "stream",
          "text": [
            "[12.       11.1      10.83     10.748999 10.724699 10.71741  10.715222]\n"
          ],
          "name": "stdout"
        }
      ]
    },
    {
      "cell_type": "markdown",
      "metadata": {
        "id": "IEeIRxlbx0wY"
      },
      "source": [
        "##Sources\n",
        "\n",
        "1. Chen, James. “Line Of Best Fit.” Investopedia, Investopedia, 29 Jan. 2020, www.investopedia.com/terms/l/line-of-best-fit.asp.\n",
        "2. “Tf.feature_column.categorical_column_with_vocabulary_list.” TensorFlow, www.tensorflow.org/api_docs/python/tf/feature_column/categorical_column_with_vocabulary_list?version=stable.\n",
        "3. “Build a Linear Model with Estimators &nbsp;: &nbsp; TensorFlow Core.” TensorFlow, www.tensorflow.org/tutorials/estimator/linear.\n",
        "4. Staff, EasyBib. “The Free Automatic Bibliography Composer.” EasyBib, Chegg, 1 Jan. 2020, www.easybib.com/project/style/mla8?id=1582473656_5e52a1b8c84d52.80301186.\n",
        "5. Seif, George. “The 5 Clustering Algorithms Data Scientists Need to Know.” Medium, Towards Data Science, 14 Sept. 2019, https://towardsdatascience.com/the-5-clustering-algorithms-data-scientists-need-to-know-a36d136ef68.\n",
        "6. Definition of Hidden Markov Model, http://jedlik.phy.bme.hu/~gerjanos/HMM/node4.html.\n",
        "7. “Tfp.distributions.HiddenMarkovModel &nbsp;: &nbsp; TensorFlow Probability.” TensorFlow, www.tensorflow.org/probability/api_docs/python/tfp/distributions/HiddenMarkovModel."
      ]
    }
  ]
}